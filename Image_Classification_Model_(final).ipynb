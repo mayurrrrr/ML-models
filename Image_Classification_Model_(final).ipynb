{
  "cells": [
    {
      "cell_type": "code",
      "execution_count": null,
      "id": "9ad69144",
      "metadata": {
        "scrolled": false,
        "id": "9ad69144"
      },
      "outputs": [],
      "source": [
        "pip install opencv-python"
      ]
    },
    {
      "cell_type": "markdown",
      "source": [
        "Importing the necessary libraries.."
      ],
      "metadata": {
        "id": "z8_YvECO0BWu"
      },
      "id": "z8_YvECO0BWu"
    },
    {
      "cell_type": "code",
      "execution_count": null,
      "id": "90bb7e34",
      "metadata": {
        "scrolled": false,
        "id": "90bb7e34"
      },
      "outputs": [],
      "source": [
        "import tensorflow as tf\n",
        "import matplotlib.pyplot as plt\n",
        "import cv2\n",
        "import os\n",
        "import numpy as np\n",
        "import random\n",
        "from tensorflow.keras.preprocessing.image import ImageDataGenerator\n",
        "from tensorflow.keras.preprocessing import image\n",
        "from tensorflow.keras.optimizers import RMSprop\n",
        "from google.colab import drive\n",
        "drive.mount('/content/drive')\n",
        "\n"
      ]
    },
    {
      "cell_type": "markdown",
      "source": [
        "  loading the image"
      ],
      "metadata": {
        "id": "Ppl9RQHer5DJ"
      },
      "id": "Ppl9RQHer5DJ"
    },
    {
      "cell_type": "code",
      "execution_count": null,
      "id": "f9aed02b",
      "metadata": {
        "scrolled": true,
        "id": "f9aed02b"
      },
      "outputs": [],
      "source": [
        "img = image.load_img('/content/drive/MyDrive/datasets/image classification/basedata/training/flood/image_101.jpg')"
      ]
    },
    {
      "cell_type": "markdown",
      "source": [
        "Showing the image"
      ],
      "metadata": {
        "id": "RA5SSTY80rMc"
      },
      "id": "RA5SSTY80rMc"
    },
    {
      "cell_type": "code",
      "execution_count": null,
      "id": "67e1c976",
      "metadata": {
        "id": "67e1c976"
      },
      "outputs": [],
      "source": [
        "plt.imshow(img)"
      ]
    },
    {
      "cell_type": "markdown",
      "source": [
        "To show the RGB values from 0 to 255"
      ],
      "metadata": {
        "id": "0kMiKhqL1Fwl"
      },
      "id": "0kMiKhqL1Fwl"
    },
    {
      "cell_type": "code",
      "execution_count": null,
      "id": "62efc02b",
      "metadata": {
        "id": "62efc02b"
      },
      "outputs": [],
      "source": [
        "cv2.imread('/content/drive/MyDrive/datasets/image classification/basedata/training/flood/image_101.jpg')"
      ]
    },
    {
      "cell_type": "markdown",
      "source": [
        "For shape"
      ],
      "metadata": {
        "id": "V2lbQvZk1NXy"
      },
      "id": "V2lbQvZk1NXy"
    },
    {
      "cell_type": "code",
      "execution_count": null,
      "id": "ab79c8be",
      "metadata": {
        "id": "ab79c8be"
      },
      "outputs": [],
      "source": [
        "cv2.imread('/content/drive/MyDrive/datasets/image classification/basedata/training/flood/image_101.jpg').shape"
      ]
    },
    {
      "cell_type": "markdown",
      "source": [
        "Generating training and validation dataset.\n",
        "\n",
        "Resizing the values from 0 to 255 to 0s and 1s."
      ],
      "metadata": {
        "id": "0dXPf8HZ1Xtb"
      },
      "id": "0dXPf8HZ1Xtb"
    },
    {
      "cell_type": "code",
      "execution_count": null,
      "id": "83f164b7",
      "metadata": {
        "id": "83f164b7"
      },
      "outputs": [],
      "source": [
        "train = ImageDataGenerator(rescale=1/255)\n",
        "validation = ImageDataGenerator(rescale=1/255)"
      ]
    },
    {
      "cell_type": "markdown",
      "source": [
        "Giving labels to the images in the folder\n",
        "\n",
        "Resizing the images to 200x200 to avoid conflicts \n",
        "\n",
        "batch_size defines how many images we train at one go\n",
        "\n",
        "*   when it was 10 : prediction was very poor\n",
        "*   After it was changed 90 : prediction was drastically improved \n",
        "\n",
        "class_mode defines how many labels we have.In this case we have only 2 so, its \"binary\"\n",
        "\n",
        "For classification:"
      ],
      "metadata": {
        "id": "KwusKPbnGJBN"
      },
      "id": "KwusKPbnGJBN"
    },
    {
      "cell_type": "code",
      "execution_count": null,
      "id": "d16c4540",
      "metadata": {
        "id": "d16c4540"
      },
      "outputs": [],
      "source": [
        "\n",
        "# training\n",
        "train_dataset=train.flow_from_directory('/content/drive/MyDrive/datasets/image classification/basedata/training/', target_size=(200,200), batch_size=90, class_mode='binary')\n",
        "\n",
        "                                        \n",
        "# validation\n",
        "validation_dataset=train.flow_from_directory('/content/drive/MyDrive/datasets/image classification/basedata/validation/', target_size=(200,200), batch_size=90, class_mode='binary')\n",
        "                                             "
      ]
    },
    {
      "cell_type": "markdown",
      "source": [
        "To show how it seperates between floods and landslides"
      ],
      "metadata": {
        "id": "fQ-cl56RIZ80"
      },
      "id": "fQ-cl56RIZ80"
    },
    {
      "cell_type": "code",
      "execution_count": null,
      "id": "67a2a2a9",
      "metadata": {
        "id": "67a2a2a9"
      },
      "outputs": [],
      "source": [
        "train_dataset.class_indices"
      ]
    },
    {
      "cell_type": "code",
      "execution_count": null,
      "id": "52deaf48",
      "metadata": {
        "id": "52deaf48"
      },
      "outputs": [],
      "source": [
        "train_dataset.classes"
      ]
    },
    {
      "cell_type": "markdown",
      "source": [
        "Defining our model.Creating a convolutional Neural Network with max pooling"
      ],
      "metadata": {
        "id": "lXXqo5oXHA89"
      },
      "id": "lXXqo5oXHA89"
    },
    {
      "cell_type": "code",
      "execution_count": null,
      "id": "662798e0",
      "metadata": {
        "id": "662798e0"
      },
      "outputs": [],
      "source": [
        "models =tf.keras.models.Sequential([tf.keras.layers.Conv2D(16,(3,3),activation='relu',\n",
        "                                                          input_shape=(200,200,3)),\n",
        "                                                          tf.keras.layers.MaxPool2D(2,2),\n",
        "                                   #\n",
        "                                   tf.keras.layers.Conv2D(32,(3,3),activation='relu'),\n",
        "                                                          tf.keras.layers.MaxPool2D(2,2),\n",
        "                                   #\n",
        "                                   tf.keras.layers.Conv2D(64,(3,3),activation='relu'),\n",
        "                                                          tf.keras.layers.MaxPool2D(2,2),\n",
        "                                   ##\n",
        "                                   tf.keras.layers.Flatten(),\n",
        "                                   ##\n",
        "                                   tf.keras.layers.Dense(512,activation='relu'),\n",
        "                                   ##\n",
        "                                   tf.keras.layers.Dense(1,activation='sigmoid')\n",
        "        \n",
        "                                  ])"
      ]
    },
    {
      "cell_type": "code",
      "execution_count": null,
      "id": "5e4434d6",
      "metadata": {
        "scrolled": true,
        "id": "5e4434d6"
      },
      "outputs": [],
      "source": [
        "models.compile(loss ='binary_crossentropy',\n",
        "             optimizer = RMSprop(learning_rate = 0.001),\n",
        "              metrics = ['accuracy'])"
      ]
    },
    {
      "cell_type": "markdown",
      "source": [
        "epochs means the number of iterations...so according to this, it iterates 10 times\n",
        "increasing the epochs increases the accuracy so ,i'll increase from 10 >> 90\n",
        "\n",
        "*   10 - 60%\n",
        "*   30 - 70%\n",
        "*   90 - 90%"
      ],
      "metadata": {
        "id": "RYnQOFGWHPyx"
      },
      "id": "RYnQOFGWHPyx"
    },
    {
      "cell_type": "code",
      "execution_count": null,
      "id": "79a2006a",
      "metadata": {
        "id": "79a2006a"
      },
      "outputs": [],
      "source": [
        "model_fit = models.fit(train_dataset, steps_per_epoch = 3, epochs = 90, validation_data=validation_dataset)                   "
      ]
    },
    {
      "cell_type": "markdown",
      "source": [
        "ACCURACY OF THIS MODEL"
      ],
      "metadata": {
        "id": "kWi6u4C_qvNp"
      },
      "id": "kWi6u4C_qvNp"
    },
    {
      "cell_type": "code",
      "source": [
        "_, accuracy=models.evaluate(train_dataset)\n",
        "print('Accuracy:%.2f' % (accuracy*100))"
      ],
      "metadata": {
        "id": "2WHOMj8tqyqX"
      },
      "id": "2WHOMj8tqyqX",
      "execution_count": null,
      "outputs": []
    },
    {
      "cell_type": "markdown",
      "source": [
        "Looping to print all the images in the folder (optional step)"
      ],
      "metadata": {
        "id": "iZC6L_o8I1wY"
      },
      "id": "iZC6L_o8I1wY"
    },
    {
      "cell_type": "code",
      "execution_count": null,
      "id": "145bc44b",
      "metadata": {
        "id": "145bc44b"
      },
      "outputs": [],
      "source": [
        "dir_path ='/content/drive/MyDrive/datasets/image classification/basedata/testing'\n",
        "\n",
        "for i in os.listdir(dir_path):\n",
        "    img = image.load_img(dir_path+'//'+i)\n",
        "    plt.imshow(img)\n",
        "    plt.show()"
      ]
    },
    {
      "cell_type": "markdown",
      "source": [
        "checking the data in 1s and 0s again"
      ],
      "metadata": {
        "id": "Vd_Wi1FxH1_C"
      },
      "id": "Vd_Wi1FxH1_C"
    },
    {
      "cell_type": "code",
      "execution_count": null,
      "id": "bb09de4f",
      "metadata": {
        "id": "bb09de4f"
      },
      "outputs": [],
      "source": [
        "validation_dataset.class_indices"
      ]
    },
    {
      "cell_type": "markdown",
      "source": [
        "Predicting!"
      ],
      "metadata": {
        "id": "uHO3m8j9H8p7"
      },
      "id": "uHO3m8j9H8p7"
    },
    {
      "cell_type": "code",
      "execution_count": null,
      "id": "ce072bf7",
      "metadata": {
        "id": "ce072bf7"
      },
      "outputs": [],
      "source": [
        "dir_path ='/content/drive/MyDrive/datasets/image classification/basedata/testing/'\n",
        "\n",
        "for i in os.listdir(dir_path):\n",
        "    img = image.load_img(dir_path+'//'+ i,target_size=(200,200))\n",
        "    plt.imshow(img)\n",
        "    plt.show()\n",
        "    \n",
        "    X= image.img_to_array(img)\n",
        "    X=np.expand_dims(X,axis = 0)\n",
        "    images = np.vstack([X])\n",
        "    val = models.predict(images)\n",
        "    if val == 0:\n",
        "        print(\"This is a FLOOD IMAGE\")\n",
        "    elif (val== 1):\n",
        "        print(\"This is a LANDSLIDE IMAGE\")\n",
        "    else:\n",
        "        print(\"NONE\")\n"
      ]
    }
  ],
  "metadata": {
    "kernelspec": {
      "display_name": "Python 3 (ipykernel)",
      "language": "python",
      "name": "python3"
    },
    "language_info": {
      "codemirror_mode": {
        "name": "ipython",
        "version": 3
      },
      "file_extension": ".py",
      "mimetype": "text/x-python",
      "name": "python",
      "nbconvert_exporter": "python",
      "pygments_lexer": "ipython3",
      "version": "3.9.7"
    },
    "colab": {
      "name": " Image Classification Model (final).ipynb",
      "provenance": [],
      "collapsed_sections": [],
      "private_outputs": true
    },
    "accelerator": "GPU"
  },
  "nbformat": 4,
  "nbformat_minor": 5
}